{
  "nbformat": 4,
  "nbformat_minor": 0,
  "metadata": {
    "colab": {
      "name": "SubModule Commit.ipynb",
      "provenance": [],
      "collapsed_sections": [],
      "include_colab_link": true
    },
    "kernelspec": {
      "name": "python3",
      "display_name": "Python 3"
    },
    "language_info": {
      "name": "python"
    }
  },
  "cells": [
    {
      "cell_type": "markdown",
      "metadata": {
        "id": "view-in-github",
        "colab_type": "text"
      },
      "source": [
        "<a href=\"https://colab.research.google.com/github/DonAloka/SubModule/blob/main/SubModule_Commit.ipynb\" target=\"_parent\"><img src=\"https://colab.research.google.com/assets/colab-badge.svg\" alt=\"Open In Colab\"/></a>"
      ]
    },
    {
      "cell_type": "markdown",
      "source": [
        "# **Commit Function**\n",
        "\n",
        "Fiestly get the submodule directory and navigate to that location. using commits commands commit submodule reporisotry\n",
        "\n",
        "after that commit aother submodule folders also"
      ],
      "metadata": {
        "id": "2kSBkTsylYZj"
      }
    },
    {
      "cell_type": "code",
      "source": [
        " commit () {\n",
        "    echo \"Enter the Sub Module Directory; Example use the / command\"\n",
        "    read text\n",
        "    echo \"Enter the Commit\"\n",
        "    read COMMIT\n",
        "\n",
        "    cd $text\n",
        "\n",
        "    IFS='/'\n",
        "    read -a strarr <<< \"$text\"\n",
        "    echo ${#strarr[@]}\n",
        "\n",
        "\n",
        "    for val in \"${strarr[@]}\";\n",
        "    do\n",
        "    #   printf \"$val\\n\"\n",
        "    git add .\n",
        "    git commit -m \"$COMMIT\"\n",
        "    git push -u origin main  \n",
        "    cd ..\n",
        "    #   git add .\n",
        "    #   git commit -m \"$COMMIT\"\n",
        "    #   git push -u origin main\n",
        "\n",
        "    done\n",
        "    echo \"loop complete\"\n",
        "    git add .\n",
        "    git commit -m \"$COMMIT\"\n",
        "    git push -u origin main\n",
        "}"
      ],
      "metadata": {
        "id": "clpEjzlclbPH"
      },
      "execution_count": null,
      "outputs": []
    },
    {
      "cell_type": "markdown",
      "source": [
        "# **View the status**\n",
        "\n",
        "Before starting with git status command, let's see how the git status looks like when there are no changes made. To check the status, open the git bash, and run the status command on your desired directory. It will run as follows:"
      ],
      "metadata": {
        "id": "GBjXS6anlf4-"
      }
    },
    {
      "cell_type": "code",
      "source": [
        "status(){\n",
        "    git status  \n",
        "}\n"
      ],
      "metadata": {
        "id": "GrnUIamEle8J"
      },
      "execution_count": null,
      "outputs": []
    },
    {
      "cell_type": "markdown",
      "source": [
        "# **Submodule Delete function**\n",
        "get the subrepository directory and commit message.if we have muliple subrepositry to find delete repository folder. check that using if condition and remove that submodule, commit the all changes for other submodules and main reposiory."
      ],
      "metadata": {
        "id": "uTSFmoCMlrA4"
      }
    },
    {
      "cell_type": "code",
      "source": [
        "delete(){\n",
        "    echo \"Enter the Sub Module Directory; Example use the / command\"\n",
        "    read text\n",
        "    echo \"Enter the Commit\"\n",
        "    read COMMIT\n",
        "\n",
        "    IFS='/'\n",
        "    read -a strarr <<< \"$text\"\n",
        "    echo ${#strarr[@]}\n",
        "\n",
        "    if [[ ${#strarr[@]} -gt 1 ]]\n",
        "    then\n",
        "        for (( c=1; c<${#strarr[@]}; c++ ))\n",
        "        do  \n",
        "            # echo \"Welcome ${strarr[c-1]} times\"\n",
        "            cd ${strarr[c-1]}\n",
        "        done\n",
        "\n",
        "        git rm ${strarr[-1]}\n",
        "        rm -rf .git/modules/${strarr[-1]}\n",
        "        git config -f .git/config --remove-section submodule.${strarr[-1]} 2> /dev/null\n",
        "        git add .\n",
        "        git commit -m \"$COMMIT\"\n",
        "        git push origin\n",
        "\n",
        "        for (( c=1; c<${#strarr[@]}; c++ ))\n",
        "        do  \n",
        "            # echo \"Welcome ${strarr[c-1]} times\"\n",
        "            cd ..\n",
        "            git add .\n",
        "            git commit -m \"$COMMIT\"\n",
        "            git push origin\n",
        "\n",
        "        done\n",
        "\n",
        "\n",
        "\n",
        "\n",
        "        # echo ${strarr[-1]}\n",
        "        # for (( c=1; c<${#strarr[@]}; c++ ))\n",
        "        # do  \n",
        "        #     # echo \"Welcome ${strarr[c-1]} times\"\n",
        "        #     cd ${strarr[c-1]}\n",
        "        # done\n",
        "\n",
        "\n",
        "\n",
        "    else\n",
        "        git rm $text\n",
        "        rm -rf .git/modules/$text\n",
        "        git config -f .git/config --remove-section submodule.$text 2> /dev/null\n",
        "        git add .\n",
        "        git commit -m \"git remove submodule example complete\"\n",
        "        git push origin\n",
        "    fi\n",
        "\n",
        "\n",
        "\n",
        "\n",
        "}\n"
      ],
      "metadata": {
        "id": "yxp24yjTlvdL"
      },
      "execution_count": null,
      "outputs": []
    },
    {
      "cell_type": "markdown",
      "source": [
        "# **Main Function**\n"
      ],
      "metadata": {
        "id": "VRMnwciTl1S2"
      }
    },
    {
      "cell_type": "code",
      "source": [
        " while true\n",
        " do\n",
        " PS3='Please enter your choice: '\n",
        " options=(\"SubModule Commit\" \"SubModule Status\" \"SubModule Remove\" \"Quit\")\n",
        " select opt in \"${options[@]}\" \n",
        " do\n",
        "     case $opt in\n",
        "         \"SubModule Commit\")\n",
        "             echo \"you chose choice 1\"\n",
        "             commit\n",
        "             break\n",
        "             ;;\n",
        "         \"SubModule Status\")\n",
        "             echo \"you chose choice 2\"\n",
        "             status\n",
        "             break\n",
        "             ;;\n",
        "         \"SubModule Remove\")\n",
        "             echo \"you chose choice 3\"\n",
        "             delete\n",
        "             break\n",
        "             ;;\n",
        "         \"Quit\")\n",
        "             echo \"Thank You...\"                 \n",
        "             exit\n",
        "             ;;\n",
        "         *) echo invalid option;;\n",
        "     esac\n",
        " done\n",
        " done"
      ],
      "metadata": {
        "id": "oc_5-Uk7l4vU"
      },
      "execution_count": null,
      "outputs": []
    }
  ]
}